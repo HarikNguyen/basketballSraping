{
 "cells": [
  {
   "cell_type": "code",
   "execution_count": 126,
   "metadata": {},
   "outputs": [],
   "source": [
    "\n",
    "import time\n",
    "import requests\n",
    "import pandas as pd\n",
    "from datetime import date\n",
    "import json\n",
    "from pathlib import Path  "
   ]
  },
  {
   "cell_type": "code",
   "execution_count": 127,
   "metadata": {},
   "outputs": [],
   "source": [
    "def convertToNum(numStr):\n",
    "    try:\n",
    "        return float(numStr)\n",
    "    except:\n",
    "        return 0"
   ]
  },
  {
   "cell_type": "code",
   "execution_count": 128,
   "metadata": {},
   "outputs": [],
   "source": [
    "Date = []\n",
    "Team_1 = []\n",
    "Team_2 = []\n",
    "Team_1_Final_Score = []\n",
    "Team_2_Final_Score = []\n",
    "Team_1_Spread = []\n",
    "Team_2_Spread = []\n",
    "Under_or_Over = []"
   ]
  },
  {
   "cell_type": "code",
   "execution_count": 129,
   "metadata": {},
   "outputs": [
    {
     "name": "stdout",
     "output_type": "stream",
     "text": [
      "https://io.oddsshark.com/scores/nba/2021-12-19\n",
      "https://io.oddsshark.com/scores/nba/2021-12-20\n",
      "https://io.oddsshark.com/scores/nba/2021-12-21\n",
      "https://io.oddsshark.com/scores/nba/2021-12-22\n",
      "https://io.oddsshark.com/scores/nba/2021-12-23\n",
      "https://io.oddsshark.com/scores/nba/2021-12-24\n",
      "https://io.oddsshark.com/scores/nba/2021-12-25\n",
      "https://io.oddsshark.com/scores/nba/2021-12-26\n",
      "https://io.oddsshark.com/scores/nba/2021-12-27\n",
      "https://io.oddsshark.com/scores/nba/2021-12-28\n",
      "https://io.oddsshark.com/scores/nba/2021-12-29\n",
      "https://io.oddsshark.com/scores/nba/2021-12-30\n",
      "https://io.oddsshark.com/scores/nba/2021-12-31\n",
      "https://io.oddsshark.com/scores/nba/2022-01-01\n",
      "https://io.oddsshark.com/scores/nba/2022-01-02\n",
      "https://io.oddsshark.com/scores/nba/2022-01-03\n",
      "https://io.oddsshark.com/scores/nba/2022-01-04\n",
      "https://io.oddsshark.com/scores/nba/2022-01-05\n",
      "https://io.oddsshark.com/scores/nba/2022-01-06\n",
      "https://io.oddsshark.com/scores/nba/2022-01-07\n",
      "https://io.oddsshark.com/scores/nba/2022-01-08\n",
      "https://io.oddsshark.com/scores/nba/2022-01-09\n",
      "https://io.oddsshark.com/scores/nba/2022-01-10\n",
      "https://io.oddsshark.com/scores/nba/2022-01-11\n",
      "https://io.oddsshark.com/scores/nba/2022-01-12\n",
      "https://io.oddsshark.com/scores/nba/2022-01-13\n",
      "https://io.oddsshark.com/scores/nba/2022-01-14\n",
      "https://io.oddsshark.com/scores/nba/2022-01-15\n",
      "https://io.oddsshark.com/scores/nba/2022-01-16\n",
      "https://io.oddsshark.com/scores/nba/2022-01-17\n",
      "https://io.oddsshark.com/scores/nba/2022-01-18\n",
      "https://io.oddsshark.com/scores/nba/2022-01-19\n",
      "https://io.oddsshark.com/scores/nba/2022-01-20\n",
      "https://io.oddsshark.com/scores/nba/2022-01-21\n",
      "https://io.oddsshark.com/scores/nba/2022-01-22\n",
      "https://io.oddsshark.com/scores/nba/2022-01-23\n",
      "https://io.oddsshark.com/scores/nba/2022-01-24\n",
      "https://io.oddsshark.com/scores/nba/2022-01-25\n",
      "https://io.oddsshark.com/scores/nba/2022-01-26\n",
      "https://io.oddsshark.com/scores/nba/2022-01-27\n"
     ]
    }
   ],
   "source": [
    "payload={}\n",
    "headers = {\n",
    "  'referer': 'https://www.oddsshark.com/'\n",
    "}\n",
    "\n",
    "dateStart = '2021-12-19'\n",
    "for date in pd.date_range(start = dateStart, end = date.today().strftime('%Y-%m-%d'), freq ='D'):\n",
    "  date = date.strftime('%Y-%m-%d')\n",
    "  # date = str(date)\n",
    "  url = \"https://io.oddsshark.com/scores/nba/\" + date\n",
    "  print(url)\n",
    "  response = requests.request(\"GET\", url, headers=headers, data=payload)\n",
    "  data = json.loads(response.text)\n",
    "  for item in data:\n",
    "    Date.append(item['event_date'])\n",
    "    Team_1.append(item['home_name'])\n",
    "    Team_2.append(item['away_name'])\n",
    "    Team_1_Final_Score.append(convertToNum(item['home_score']))\n",
    "    Team_2_Final_Score.append(convertToNum(item['away_score']))\n",
    "    Team_1_Spread.append(convertToNum(item['home_spread']))\n",
    "    Team_2_Spread.append(convertToNum(item['away_spread']))\n",
    "    Under_or_Over.append((convertToNum(item['home_score']) + convertToNum(item['away_score'])) - convertToNum(item['total']))"
   ]
  },
  {
   "cell_type": "code",
   "execution_count": 131,
   "metadata": {},
   "outputs": [],
   "source": [
    "fileName = 'out'\n",
    "dataToFile = {'Date': Date,\n",
    "                'Team 1': Team_1,\n",
    "                'Team 2': Team_2,\n",
    "                'Team 1 Final Score': Team_1_Final_Score,\n",
    "                'Team 2 Final Score': Team_2_Final_Score,\n",
    "                'Team 1 Spreed': Team_1_Spread,\n",
    "                'Team 2 Spreed': Team_2_Spread,\n",
    "                'Under/Over amount': Under_or_Over}\n",
    "df = pd.DataFrame(dataToFile)\n",
    "filepath = Path('./'+ fileName +'.csv')  \n",
    "filepath.parent.mkdir(parents=True, exist_ok=True)  \n",
    "df.to_csv(filepath) "
   ]
  }
 ],
 "metadata": {
  "interpreter": {
   "hash": "ac59ebe37160ed0dfa835113d9b8498d9f09ceb179beaac4002f036b9467c963"
  },
  "kernelspec": {
   "display_name": "Python 3.9.7 64-bit",
   "language": "python",
   "name": "python3"
  },
  "language_info": {
   "codemirror_mode": {
    "name": "ipython",
    "version": 3
   },
   "file_extension": ".py",
   "mimetype": "text/x-python",
   "name": "python",
   "nbconvert_exporter": "python",
   "pygments_lexer": "ipython3",
   "version": "3.9.7"
  },
  "orig_nbformat": 4
 },
 "nbformat": 4,
 "nbformat_minor": 2
}
